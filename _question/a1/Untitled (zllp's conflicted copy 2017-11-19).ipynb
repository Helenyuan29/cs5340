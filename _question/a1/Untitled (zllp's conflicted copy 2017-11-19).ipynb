{
 "cells": [
  {
   "cell_type": "code",
   "execution_count": 45,
   "metadata": {},
   "outputs": [],
   "source": [
    "import cv2\n",
    "import numpy as np\n",
    "from scipy.stats import norm\n",
    "\n",
    "\n",
    "\n",
    "\n",
    "def denoise(im,J,sigma,burn_in=25,it_cnt=500):\n",
    "    # perform type conversions and ensure input \\in {1,-1}\n",
    "    noisy = im.astype(np.float32)\n",
    "    noisy[noisy==255]=1\n",
    "    noisy[noisy==0]=-1\n",
    "\n",
    "    #sigma = 2 # noise level\n",
    "    psi_t = {}\n",
    "    psi_t['1'] = norm.pdf(noisy,1,sigma) # $\\psi_t(+1)\n",
    "    psi_t['-1'] = norm.pdf(noisy,-1,sigma) # $\\psi_t(-1)\n",
    "    avg = np.zeros(noisy.shape)\n",
    "    \n",
    "    sample = noisy.copy()# start from current observation\n",
    "    for i in range(it_cnt):\n",
    "        # direct implemntation of equation 3 \n",
    "        # note that we use convolution to perform summation for performance reasons\n",
    "        k = np.array([[0,1,0],[1,0,1],[0,1,0]])\n",
    "        nbr_sum = cv2.filter2D(sample,-1,k) # $\\sum_{s\\in nbr(t)}{x_s}$\n",
    "        p1 = np.exp(J*nbr_sum) * psi_t['1']\n",
    "        p0 = np.exp(-J*nbr_sum) * psi_t['-1']\n",
    "        prob = p1/(p1+p0)\n",
    "        \n",
    "        sample_mask = np.less(np.random.random(noisy.shape),prob)\n",
    "\n",
    "        sample[sample_mask]=1\n",
    "        \n",
    "        if i%100==0:\n",
    "            print('it cnt %d\\r'%i)\n",
    "        if i>=burn_in:\n",
    "            avg += sample\n",
    "    avg /= (it_cnt-burn_in)\n",
    "    return avg\n",
    "    \n",
    "    \n"
   ]
  },
  {
   "cell_type": "code",
   "execution_count": 57,
   "metadata": {},
   "outputs": [
    {
     "name": "stdout",
     "output_type": "stream",
     "text": [
      "it cnt 0\n",
      "it cnt 100\n",
      "it cnt 200\n",
      "it cnt 300\n",
      "it cnt 400\n",
      "it cnt 500\n",
      "it cnt 600\n",
      "it cnt 700\n",
      "it cnt 800\n",
      "it cnt 900\n",
      "it cnt 1000\n",
      "it cnt 1100\n",
      "it cnt 1200\n",
      "it cnt 1300\n",
      "it cnt 1400\n",
      "it cnt 1500\n",
      "it cnt 1600\n",
      "it cnt 1700\n",
      "it cnt 1800\n",
      "it cnt 1900\n",
      "it cnt 2000\n",
      "it cnt 2100\n",
      "it cnt 2200\n",
      "it cnt 2300\n",
      "it cnt 2400\n",
      "it cnt 2500\n",
      "it cnt 2600\n",
      "it cnt 2700\n",
      "it cnt 2800\n",
      "it cnt 2900\n",
      "it cnt 3000\n",
      "it cnt 3100\n",
      "it cnt 3200\n",
      "it cnt 3300\n",
      "it cnt 3400\n",
      "it cnt 3500\n",
      "it cnt 3600\n",
      "it cnt 3700\n",
      "it cnt 3800\n",
      "it cnt 3900\n",
      "it cnt 4000\n",
      "it cnt 4100\n",
      "it cnt 4200\n",
      "it cnt 4300\n",
      "it cnt 4400\n",
      "it cnt 4500\n",
      "it cnt 4600\n",
      "it cnt 4700\n",
      "it cnt 4800\n",
      "it cnt 4900\n",
      "denoise done\n"
     ]
    }
   ],
   "source": [
    "im = cv2.imread('3_noise.png')[:,:,0]\n",
    "denoised=denoise(im,10,5,burn_in=25,it_cnt=100)\n",
    "denoised[denoised>0]=255\n",
    "denoised[denoised<=0]=0\n",
    "print('denoise done')\n",
    "while True:\n",
    "    cv2.imshow('noisy',im)\n",
    "    cv2.imshow('denoised',denoised)\n",
    "    if cv2.waitKey(1) &0xFF==27:\n",
    "        break"
   ]
  },
  {
   "cell_type": "code",
   "execution_count": 29,
   "metadata": {},
   "outputs": [],
   "source": [
    "sample_mask = np.less(np.random.random(noisy.shape),prob)\n",
    "sample = np.zeros(noisy.shape)-1\n",
    "sample[sample_mask]=1"
   ]
  },
  {
   "cell_type": "code",
   "execution_count": 31,
   "metadata": {},
   "outputs": [
    {
     "data": {
      "text/plain": [
       "1114089"
      ]
     },
     "execution_count": 31,
     "metadata": {},
     "output_type": "execute_result"
    }
   ],
   "source": [
    "\n",
    "cv2.imshow('im',sample*255)\n",
    "cv2.waitKey(0)"
   ]
  },
  {
   "cell_type": "code",
   "execution_count": 16,
   "metadata": {},
   "outputs": [
    {
     "data": {
      "text/plain": [
       "array([[ 0.19947114,  0.12098536,  0.19947114, ...,  0.19947114,\n",
       "         0.19947114,  0.19947114],\n",
       "       [ 0.19947114,  0.19947114,  0.19947114, ...,  0.19947114,\n",
       "         0.19947114,  0.19947114],\n",
       "       [ 0.19947114,  0.19947114,  0.19947114, ...,  0.19947114,\n",
       "         0.19947114,  0.19947114],\n",
       "       ..., \n",
       "       [ 0.12098536,  0.12098536,  0.19947114, ...,  0.12098536,\n",
       "         0.19947114,  0.12098536],\n",
       "       [ 0.19947114,  0.12098536,  0.19947114, ...,  0.12098536,\n",
       "         0.12098536,  0.19947114],\n",
       "       [ 0.12098536,  0.12098536,  0.19947114, ...,  0.12098536,\n",
       "         0.12098536,  0.19947114]])"
      ]
     },
     "execution_count": 16,
     "metadata": {},
     "output_type": "execute_result"
    }
   ],
   "source": [
    "\n"
   ]
  },
  {
   "cell_type": "code",
   "execution_count": 24,
   "metadata": {},
   "outputs": [
    {
     "data": {
      "text/plain": [
       "array([[0, 1, 0],\n",
       "       [1, 0, 1],\n",
       "       [0, 1, 0]])"
      ]
     },
     "execution_count": 24,
     "metadata": {},
     "output_type": "execute_result"
    }
   ],
   "source": [
    "k"
   ]
  },
  {
   "cell_type": "code",
   "execution_count": null,
   "metadata": {},
   "outputs": [],
   "source": []
  }
 ],
 "metadata": {
  "kernelspec": {
   "display_name": "Python 2",
   "language": "python",
   "name": "python2"
  },
  "language_info": {
   "codemirror_mode": {
    "name": "ipython",
    "version": 3
   },
   "file_extension": ".py",
   "mimetype": "text/x-python",
   "name": "python",
   "nbconvert_exporter": "python",
   "pygments_lexer": "ipython3",
   "version": "3.5.2"
  }
 },
 "nbformat": 4,
 "nbformat_minor": 2
}
