{
 "cells": [
  {
   "cell_type": "code",
   "execution_count": 2,
   "metadata": {},
   "outputs": [],
   "source": [
    "import cv2\n",
    "import numpy as np\n",
    "from scipy.stats import norm\n",
    "\n",
    "def denoise(im,J,sigma,burn_in=25,it_cnt=500):\n",
    "    # perform type conversions and ensure input \\in {1,-1}\n",
    "    noisy = im.astype(np.float32)\n",
    "    noisy[noisy==255]=1\n",
    "    noisy[noisy==0]=-1\n",
    "    psi_t = {}\n",
    "    psi_t['1'] = norm.pdf(noisy,1,sigma) # $\\psi_t(+1)\n",
    "    psi_t['-1'] = norm.pdf(noisy,-1,sigma) # $\\psi_t(-1)\n",
    "    avg = np.zeros(noisy.shape)\n",
    "    \n",
    "    sample = noisy.copy()# start from current observation\n",
    "    for i in range(it_cnt):\n",
    "        # direct implementation of equation 3 \n",
    "        # note that we use convolution to perform summation for performance reasons\n",
    "        k = np.array([[0,1,0],[1,0,1],[0,1,0]])\n",
    "        nbr_sum = cv2.filter2D(sample,-1,k) # $\\sum_{s\\in nbr(t)}{x_s}$\n",
    "        p1 = np.exp(J*nbr_sum) * psi_t['1']\n",
    "        p0 = np.exp(-J*nbr_sum) * psi_t['-1']\n",
    "        prob = p1/(p1+p0)\n",
    "        \n",
    "        sample_mask = np.less(np.random.random(noisy.shape),prob)\n",
    "        sample[...]=-1\n",
    "        sample[sample_mask]=1\n",
    "        \n",
    "        if i%100==0:\n",
    "            print('it cnt %d\\r'%i)\n",
    "        if i>=burn_in:\n",
    "            avg += sample\n",
    "    avg /= (it_cnt-burn_in)\n",
    "    \n",
    "    avg[avg>0]=255\n",
    "    avg[avg<=0]=0\n",
    "    return avg.astype(np.uint8)\n",
    "    \n",
    "\n"
   ]
  },
  {
   "cell_type": "code",
   "execution_count": 7,
   "metadata": {},
   "outputs": [
    {
     "name": "stdout",
     "output_type": "stream",
     "text": [
      "it cnt 0\r\n",
      "denoise done\n"
     ]
    }
   ],
   "source": [
    "im = cv2.imread('3_noise.png')[:,:,0]\n",
    "denoised=denoise(im,1,1,burn_in=5,it_cnt=15)\n",
    "print('denoise done')\n",
    "while True:\n",
    "    cv2.imshow('noisy',im)\n",
    "    cv2.imshow('denoised',denoised)\n",
    "    if cv2.waitKey(1) &0xFF==27:\n",
    "        break"
   ]
  },
  {
   "cell_type": "code",
   "execution_count": 29,
   "metadata": {},
   "outputs": [],
   "source": [
    "sample_mask = np.less(np.random.random(noisy.shape),prob)\n",
    "sample = np.zeros(noisy.shape)-1\n",
    "sample[sample_mask]=1"
   ]
  },
  {
   "cell_type": "code",
   "execution_count": 31,
   "metadata": {},
   "outputs": [
    {
     "data": {
      "text/plain": [
       "1114089"
      ]
     },
     "execution_count": 31,
     "metadata": {},
     "output_type": "execute_result"
    }
   ],
   "source": [
    "\n",
    "cv2.imshow('im',sample*255)\n",
    "cv2.waitKey(0)"
   ]
  },
  {
   "cell_type": "code",
   "execution_count": 16,
   "metadata": {},
   "outputs": [
    {
     "data": {
      "text/plain": [
       "array([[ 0.19947114,  0.12098536,  0.19947114, ...,  0.19947114,\n",
       "         0.19947114,  0.19947114],\n",
       "       [ 0.19947114,  0.19947114,  0.19947114, ...,  0.19947114,\n",
       "         0.19947114,  0.19947114],\n",
       "       [ 0.19947114,  0.19947114,  0.19947114, ...,  0.19947114,\n",
       "         0.19947114,  0.19947114],\n",
       "       ..., \n",
       "       [ 0.12098536,  0.12098536,  0.19947114, ...,  0.12098536,\n",
       "         0.19947114,  0.12098536],\n",
       "       [ 0.19947114,  0.12098536,  0.19947114, ...,  0.12098536,\n",
       "         0.12098536,  0.19947114],\n",
       "       [ 0.12098536,  0.12098536,  0.19947114, ...,  0.12098536,\n",
       "         0.12098536,  0.19947114]])"
      ]
     },
     "execution_count": 16,
     "metadata": {},
     "output_type": "execute_result"
    }
   ],
   "source": [
    "\n"
   ]
  },
  {
   "cell_type": "code",
   "execution_count": 24,
   "metadata": {},
   "outputs": [
    {
     "data": {
      "text/plain": [
       "array([[0, 1, 0],\n",
       "       [1, 0, 1],\n",
       "       [0, 1, 0]])"
      ]
     },
     "execution_count": 24,
     "metadata": {},
     "output_type": "execute_result"
    }
   ],
   "source": [
    "k"
   ]
  },
  {
   "cell_type": "code",
   "execution_count": null,
   "metadata": {},
   "outputs": [],
   "source": []
  }
 ],
 "metadata": {
  "kernelspec": {
   "display_name": "Python 2",
   "language": "python",
   "name": "python2"
  },
  "language_info": {
   "codemirror_mode": {
    "name": "ipython",
    "version": 3
   },
   "file_extension": ".py",
   "mimetype": "text/x-python",
   "name": "python",
   "nbconvert_exporter": "python",
   "pygments_lexer": "ipython3",
   "version": "3.5.2"
  }
 },
 "nbformat": 4,
 "nbformat_minor": 2
}
